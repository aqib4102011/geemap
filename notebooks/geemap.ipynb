{
 "cells": [
  {
   "cell_type": "code",
   "execution_count": 63,
   "metadata": {},
   "outputs": [],
   "source": [
    "import os\n",
    "import ee\n",
    "import geemap\n",
    "import ipywidgets as widgets"
   ]
  },
  {
   "cell_type": "code",
   "execution_count": 64,
   "metadata": {},
   "outputs": [
    {
     "data": {
      "application/vnd.jupyter.widget-view+json": {
       "model_id": "bc8dc2f2bced487f9d756d94d1aa1f19",
       "version_major": 2,
       "version_minor": 0
      },
      "text/plain": [
       "Map(center=[40, -100], controls=(WidgetControl(options=['position'], widget=HBox(children=(ToggleButton(value=…"
      ]
     },
     "metadata": {},
     "output_type": "display_data"
    }
   ],
   "source": [
    "Map = geemap.Map()\n",
    "Map.add_basemap('HYBRID')\n",
    "Map"
   ]
  },
  {
   "cell_type": "code",
   "execution_count": 65,
   "metadata": {},
   "outputs": [
    {
     "data": {
      "application/vnd.jupyter.widget-view+json": {
       "model_id": "d6a22ca3cb6742c8a42741bf2e337b56",
       "version_major": 2,
       "version_minor": 0
      },
      "text/plain": [
       "HBox(children=(Text(value='Landsat Timelapse', description='Title:', style=DescriptionStyle(description_width=…"
      ]
     },
     "metadata": {},
     "output_type": "display_data"
    }
   ],
   "source": [
    "style = {'description_width': 'initial'}\n",
    "title = widgets.Text(\n",
    "    description='Title:',\n",
    "    value='Landsat Timelapse',\n",
    "    width=200,\n",
    "    style=style\n",
    ")\n",
    "\n",
    "bands = widgets.Dropdown(\n",
    "    description='Select RGB Combo:',\n",
    "    options=['Red/Green/Blue', 'NIR/Red/Green',  'SWIR2/SWIR1/NIR', 'NIR/SWIR1/Red','SWIR2/NIR/Red', \n",
    "             'SWIR2/SWIR1/Red', 'SWIR1/NIR/Blue', 'NIR/SWIR1/Blue', 'SWIR2/NIR/Green', 'SWIR1/NIR/Red'],\n",
    "    value='NIR/Red/Green',\n",
    "    style=style\n",
    ")\n",
    "\n",
    "hbox1 = widgets.HBox([title, bands])\n",
    "hbox1"
   ]
  },
  {
   "cell_type": "code",
   "execution_count": 66,
   "metadata": {},
   "outputs": [
    {
     "data": {
      "application/vnd.jupyter.widget-view+json": {
       "model_id": "cf0dcdefb1a64fb3b7d5060a026af056",
       "version_major": 2,
       "version_minor": 0
      },
      "text/plain": [
       "HBox(children=(IntSlider(value=10, description='  Frames per second:', max=30, min=1, style=SliderStyle(descri…"
      ]
     },
     "metadata": {},
     "output_type": "display_data"
    }
   ],
   "source": [
    "speed = widgets.IntSlider(\n",
    "    description='  Frames per second:',\n",
    "    tooltip='Frames per second:',\n",
    "    value=10,\n",
    "    min=1, \n",
    "    max = 30,\n",
    "    style=style\n",
    ")\n",
    "\n",
    "cloud = widgets.Checkbox(\n",
    "    value=True,\n",
    "    description='Apply fmask (remove clouds, shadows, snow)',\n",
    "    style=style\n",
    ")\n",
    "\n",
    "hbox2 = widgets.HBox([speed, cloud])\n",
    "hbox2"
   ]
  },
  {
   "cell_type": "code",
   "execution_count": 67,
   "metadata": {},
   "outputs": [
    {
     "data": {
      "application/vnd.jupyter.widget-view+json": {
       "model_id": "382bf45782f242af944f0d08051b3252",
       "version_major": 2,
       "version_minor": 0
      },
      "text/plain": [
       "HBox(children=(IntSlider(value=2015, description='Start Year:', max=2021, min=2015, style=SliderStyle(descript…"
      ]
     },
     "metadata": {},
     "output_type": "display_data"
    }
   ],
   "source": [
    "start_year = widgets.IntSlider(description='Start Year:', value=2015, min=2015, max=2021, style=style)\n",
    "end_year = widgets.IntSlider(description='End Year:', value=2021, min=2015, max=2021, style=style)\n",
    "start_month = widgets.IntSlider(description='Start Month:', value=5, min=1, max=12, style=style)\n",
    "end_month = widgets.IntSlider(description='End Month:', value=10, min=1, max=12, style=style)\n",
    "hbox3 = widgets.HBox([start_year, end_year, start_month, end_month])\n",
    "hbox3"
   ]
  },
  {
   "cell_type": "code",
   "execution_count": 68,
   "metadata": {},
   "outputs": [
    {
     "data": {
      "application/vnd.jupyter.widget-view+json": {
       "model_id": "c43137d9707543bc830c10fcb6be6bf2",
       "version_major": 2,
       "version_minor": 0
      },
      "text/plain": [
       "HBox(children=(IntSlider(value=30, description='Font size:', max=50, min=10, style=SliderStyle(description_wid…"
      ]
     },
     "metadata": {},
     "output_type": "display_data"
    }
   ],
   "source": [
    "font_size = widgets.IntSlider(description='Font size:', value=30, min=10, max=50, style=style)\n",
    "\n",
    "font_color = widgets.ColorPicker(\n",
    "    concise=False,\n",
    "    description='Font color:',\n",
    "    value='white',\n",
    "    style=style\n",
    ")\n",
    "\n",
    "progress_bar_color = widgets.ColorPicker(\n",
    "    concise=False,\n",
    "    description='Progress bar color:',\n",
    "    value='blue',\n",
    "    style=style\n",
    ")\n",
    "\n",
    "hbox4 = widgets.HBox([font_size, font_color, progress_bar_color])\n",
    "hbox4"
   ]
  },
  {
   "cell_type": "code",
   "execution_count": 69,
   "metadata": {},
   "outputs": [
    {
     "data": {
      "application/vnd.jupyter.widget-view+json": {
       "model_id": "d349ae8f5e144a5b90c448a182f6550a",
       "version_major": 2,
       "version_minor": 0
      },
      "text/plain": [
       "HBox(children=(Dropdown(description='Normalized Difference Index:', options=('Vegetation Index (NDVI)', 'Water…"
      ]
     },
     "metadata": {},
     "output_type": "display_data"
    }
   ],
   "source": [
    "# Normalized Satellite Indices: https://www.usna.edu/Users/oceano/pguth/md_help/html/norm_sat.htm\n",
    "\n",
    "nd_options = ['Vegetation Index (NDVI)', \n",
    "              'Water Index (NDWI)',\n",
    "              'Modified Water Index (MNDWI)',\n",
    "              'Snow Index (NDSI)',\n",
    "              'Soil Index (NDSI)',\n",
    "              'Burn Ratio (NBR)',\n",
    "              'Customized']\n",
    "nd_indices = widgets.Dropdown(options=nd_options, value=None, description='Normalized Difference Index:', style=style)\n",
    "\n",
    "first_band = widgets.Dropdown(\n",
    "    description='1st band:',\n",
    "    options=['Blue', 'Green','Red','NIR', 'SWIR1', 'SWIR2'],\n",
    "    value=None,\n",
    "    style=style\n",
    ")\n",
    "\n",
    "second_band = widgets.Dropdown(\n",
    "    description='2nd band:',\n",
    "    options=['Blue', 'Green','Red','NIR', 'SWIR1', 'SWIR2'],\n",
    "    value=None,\n",
    "    style=style\n",
    ")\n",
    "\n",
    "nd_threshold = widgets.FloatSlider(\n",
    "    value=0,\n",
    "    min=-1,\n",
    "    max=1,\n",
    "    step=0.01,\n",
    "    description='Threshold:',\n",
    "    orientation='horizontal',\n",
    ")\n",
    "\n",
    "nd_color = widgets.ColorPicker(\n",
    "    concise=False,\n",
    "    description='Color:',\n",
    "    value='blue',\n",
    "    style=style\n",
    ")\n",
    "\n",
    "def nd_index_change(change):\n",
    "    if nd_indices.value == 'Vegetation Index (NDVI)':\n",
    "        first_band.value = 'NIR'\n",
    "        second_band.value = 'Red'\n",
    "    elif nd_indices.value == 'Water Index (NDWI)':\n",
    "        first_band.value = 'NIR'\n",
    "        second_band.value = 'SWIR1'   \n",
    "    elif nd_indices.value == 'Modified Water Index (MNDWI)':\n",
    "        first_band.value = 'Green'\n",
    "        second_band.value = 'SWIR1'   \n",
    "    elif nd_indices.value == 'Snow Index (NDSI)':\n",
    "        first_band.value = 'Green'\n",
    "        second_band.value = 'SWIR1'\n",
    "    elif nd_indices.value == 'Soil Index (NDSI)':\n",
    "        first_band.value = 'SWIR1'\n",
    "        second_band.value = 'NIR'        \n",
    "    elif nd_indices.value == 'Burn Ratio (NBR)':\n",
    "        first_band.value = 'NIR'\n",
    "        second_band.value = 'SWIR2'\n",
    "    elif nd_indices.value == 'Customized':\n",
    "        first_band.value = None\n",
    "        second_band.value = None\n",
    "        \n",
    "nd_indices.observe(nd_index_change, names='value')\n",
    "\n",
    "hbox5 = widgets.HBox([nd_indices, first_band, second_band, nd_threshold, nd_color])\n",
    "hbox5"
   ]
  },
  {
   "cell_type": "code",
   "execution_count": 70,
   "metadata": {},
   "outputs": [
    {
     "data": {
      "application/vnd.jupyter.widget-view+json": {
       "model_id": "bfcd5a2b7ed4469eb1ce28a0e154ca49",
       "version_major": 2,
       "version_minor": 0
      },
      "text/plain": [
       "HBox(children=(Button(button_style='primary', description='Create timelapse', style=ButtonStyle(), tooltip='Cl…"
      ]
     },
     "metadata": {},
     "output_type": "display_data"
    }
   ],
   "source": [
    "create_gif = widgets.Button(\n",
    "    description='Create timelapse',\n",
    "    button_style='primary',\n",
    "    tooltip='Click to create timelapse',\n",
    "    style=style\n",
    ")\n",
    "\n",
    "download_gif = widgets.Button(\n",
    "    description='Download GIF',\n",
    "    button_style='primary',\n",
    "    tooltip='Click to download timelapse',\n",
    "    disabled=False,\n",
    "    style=style\n",
    ")\n",
    "\n",
    "output = widgets.Output()\n",
    "\n",
    "hbox5 = widgets.HBox([create_gif])\n",
    "hbox5"
   ]
  },
  {
   "cell_type": "code",
   "execution_count": 71,
   "metadata": {},
   "outputs": [],
   "source": [
    "def submit_clicked(b):\n",
    "    \n",
    "    with output:\n",
    "        output.clear_output()\n",
    "        if start_year.value > end_year.value:\n",
    "            print('The end year must be great than the start year.')\n",
    "            return\n",
    "        if start_month.value > end_month.value:\n",
    "            print('The end month must be great than the start month.')\n",
    "            return        \n",
    "        if start_year.value == end_year.value:\n",
    "            add_progress_bar = False\n",
    "        else:\n",
    "            add_progress_bar = True\n",
    "            \n",
    "        start_date = str(start_month.value).zfill(2) + '-01'\n",
    "        end_date = str(end_month.value).zfill(2) + '-30'\n",
    "        \n",
    "        print('Computing...')\n",
    "        \n",
    "        nd_bands = None    \n",
    "        if (first_band.value is not None) and (second_band.value is not None):\n",
    "            nd_bands = [first_band.value, second_band.value]\n",
    "\n",
    "        Map.add_landsat_ts_gif(roi=Map.user_roi, label=title.value, start_year=start_year.value, \n",
    "                               end_year=end_year.value, start_date=start_date, end_date=end_date, \n",
    "                               bands=bands.value.split('/'), font_color=font_color.value, \n",
    "                               frames_per_second=speed.value, font_size=font_size.value, \n",
    "                               add_progress_bar= add_progress_bar, progress_bar_color=progress_bar_color.value, \n",
    "                               download=True, apply_fmask=cloud.value, nd_bands=nd_bands, \n",
    "                               nd_threshold=nd_threshold.value, nd_palette=['black', nd_color.value]) \n",
    "            \n",
    "create_gif.on_click(submit_clicked)"
   ]
  },
  {
   "cell_type": "code",
   "execution_count": 72,
   "metadata": {},
   "outputs": [],
   "source": [
    "def submit_clicked(b):\n",
    "    \n",
    "    with output:\n",
    "        output.clear_output()\n",
    "        if start_year.value > end_year.value:\n",
    "            print('The end year must be great than the start year.')\n",
    "            return\n",
    "        if start_month.value > end_month.value:\n",
    "            print('The end month must be great than the start month.')\n",
    "            return        \n",
    "        if start_year.value == end_year.value:\n",
    "            add_progress_bar = False\n",
    "        else:\n",
    "            add_progress_bar = True\n",
    "            \n",
    "        start_date = str(start_month.value).zfill(2) + '-01'\n",
    "        end_date = str(end_month.value).zfill(2) + '-30'\n",
    "        \n",
    "        print('Computing...')\n",
    "        \n",
    "        nd_bands = None    \n",
    "        if (first_band.value is not None) and (second_band.value is not None):\n",
    "            nd_bands = [first_band.value, second_band.value]\n",
    "\n",
    "        Map.add_landsat_ts_gif(roi=Map.user_roi, label=title.value, start_year=start_year.value, \n",
    "                               end_year=end_year.value, start_date=start_date, end_date=end_date, \n",
    "                               bands=bands.value.split('/'), font_color=font_color.value, \n",
    "                               frames_per_second=speed.value, font_size=font_size.value, \n",
    "                               add_progress_bar= add_progress_bar, progress_bar_color=progress_bar_color.value, \n",
    "                               download=True, apply_fmask=cloud.value, nd_bands=nd_bands, \n",
    "                               nd_threshold=nd_threshold.value, nd_palette=['black', nd_color.value]) \n",
    "            \n",
    "create_gif.on_click(submit_clicked)"
   ]
  },
  {
   "cell_type": "code",
   "execution_count": 73,
   "metadata": {},
   "outputs": [
    {
     "data": {
      "application/vnd.jupyter.widget-view+json": {
       "model_id": "b4a1539cdc624df4a1d844db21bcc868",
       "version_major": 2,
       "version_minor": 0
      },
      "text/plain": [
       "Output()"
      ]
     },
     "metadata": {},
     "output_type": "display_data"
    }
   ],
   "source": [
    "output"
   ]
  },
  {
   "cell_type": "code",
   "execution_count": null,
   "metadata": {},
   "outputs": [],
   "source": []
  }
 ],
 "metadata": {
  "kernelspec": {
   "display_name": "Python 3",
   "language": "python",
   "name": "python3"
  },
  "language_info": {
   "codemirror_mode": {
    "name": "ipython",
    "version": 3
   },
   "file_extension": ".py",
   "mimetype": "text/x-python",
   "name": "python",
   "nbconvert_exporter": "python",
   "pygments_lexer": "ipython3",
   "version": "3.8.5"
  }
 },
 "nbformat": 4,
 "nbformat_minor": 4
}
